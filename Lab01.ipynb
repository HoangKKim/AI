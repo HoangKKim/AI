{
  "nbformat": 4,
  "nbformat_minor": 0,
  "metadata": {
    "colab": {
      "provenance": []
    },
    "kernelspec": {
      "name": "python3",
      "display_name": "Python 3"
    },
    "language_info": {
      "name": "python"
    }
  },
  "cells": [
    {
      "cell_type": "code",
      "execution_count": 3,
      "metadata": {
        "colab": {
          "base_uri": "https://localhost:8080/"
        },
        "id": "OMFKKJ33P5FU",
        "outputId": "973aac8c-88de-4887-ab3b-0a2a5bdd69d2"
      },
      "outputs": [
        {
          "output_type": "stream",
          "name": "stdout",
          "text": [
            "Number of queens: 8\n",
            "[0, 4, 7, 5, 2, 6, 1, 3]\n",
            "Q * * * * * * * \n",
            "* * * * * * Q * \n",
            "* * * * Q * * * \n",
            "* * * * * * * Q \n",
            "* Q * * * * * * \n",
            "* * * Q * * * * \n",
            "* * * * * Q * * \n",
            "* * Q * * * * * \n"
          ]
        }
      ],
      "source": [
        "import queue\n",
        "\n",
        "def presentResult(goalState):\n",
        "  if(goalState != None):\n",
        "    n = len(goalState)\n",
        "    for i in range(0,n):\n",
        "      for j in range(0,n):\n",
        "        if(i == goalState[j]):\n",
        "          print('Q', end = \" \")\n",
        "        else:\n",
        "          print('*', end = \" \")\n",
        "      print()\n",
        "  else:\n",
        "    print(\"No solution\")\n",
        "\n",
        "\n",
        "def isValid (checkingState, row, col):\n",
        "  for i in range(0,col-1):\n",
        "    for j in range(i+1,col):\n",
        "      # if 2 queens on the same column\n",
        "      if(checkingState[i] == checkingState[j]):\n",
        "        return False\n",
        "      # if 2 queens on the same diagonal\n",
        "      if(abs(checkingState[i]-checkingState[j])==j-i):\n",
        "        return False\n",
        "  return True\n",
        "\n",
        "def UCS_Solution (n):\n",
        "  frontier = queue.PriorityQueue()\n",
        "  # create frontier with n element and cost = 0\n",
        "  frontier.put((0,['-']*(n)))\n",
        "\n",
        "  while(frontier.empty() == False):\n",
        "    # get the state with minimal cost in frontier\n",
        "    cost,curState = frontier.get()\n",
        "\n",
        "    # the goal state is found when the checking state doesn't have any '-'\n",
        "    if(curState.count('-') == 0):\n",
        "      return curState\n",
        "\n",
        "    # Find the next queen need to put into the board\n",
        "    # The col has '-' is the queen still waiting\n",
        "    col = curState.index('-')\n",
        "\n",
        "    for row in range (0,n):\n",
        "      nextState = curState.copy()\n",
        "      # put the \"col\"-th queen on the \"row\"-th\n",
        "      nextState[col] = row\n",
        "      # Each path has an unit cost\n",
        "      nextCost = cost + 1\n",
        "      # Check the curState whether it is valid\n",
        "      if(isValid(nextState, row, col+1)):\n",
        "        frontier.put((nextCost, nextState))\n",
        "  return None\n",
        "\n",
        "if __name__ == \"__main__\":\n",
        "  n = int(input(\"Number of queens: \"))\n",
        "  goalState = UCS_Solution(n)\n",
        "  print(goalState)\n",
        "  presentResult(goalState)\n",
        "\n",
        "\n",
        "\n"
      ]
    },
    {
      "cell_type": "code",
      "source": [
        ""
      ],
      "metadata": {
        "id": "H5gZw4JmXG-F"
      },
      "execution_count": 3,
      "outputs": []
    }
  ]
}